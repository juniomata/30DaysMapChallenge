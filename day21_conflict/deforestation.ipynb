{
 "cells": [
  {
   "cell_type": "markdown",
   "metadata": {},
   "source": [
    "# Get Data"
   ]
  },
  {
   "cell_type": "code",
   "execution_count": 18,
   "metadata": {},
   "outputs": [
    {
     "name": "stdout",
     "output_type": "stream",
     "text": [
      "Successfully loaded and saved: https://storage.googleapis.com/earthenginepartners-hansen/GFC-2023-v1.11/Hansen_GFC-2023-v1.11_treecover2000_10N_090E.tif\n",
      "Successfully loaded and saved: https://storage.googleapis.com/earthenginepartners-hansen/GFC-2023-v1.11/Hansen_GFC-2023-v1.11_treecover2000_10N_100E.tif\n",
      "Successfully loaded and saved: https://storage.googleapis.com/earthenginepartners-hansen/GFC-2023-v1.11/Hansen_GFC-2023-v1.11_treecover2000_00N_090E.tif\n",
      "Successfully loaded and saved: https://storage.googleapis.com/earthenginepartners-hansen/GFC-2023-v1.11/Hansen_GFC-2023-v1.11_treecover2000_00N_100E.tif\n",
      "Successfully loaded and saved: https://storage.googleapis.com/earthenginepartners-hansen/GFC-2023-v1.11/Hansen_GFC-2023-v1.11_treecover2000_10N_110E.tif\n",
      "Successfully loaded and saved: https://storage.googleapis.com/earthenginepartners-hansen/GFC-2023-v1.11/Hansen_GFC-2023-v1.11_treecover2000_00N_110E.tif\n",
      "Successfully loaded and saved: https://storage.googleapis.com/earthenginepartners-hansen/GFC-2023-v1.11/Hansen_GFC-2023-v1.11_lossyear_10N_090E.tif\n",
      "Successfully loaded and saved: https://storage.googleapis.com/earthenginepartners-hansen/GFC-2023-v1.11/Hansen_GFC-2023-v1.11_lossyear_10N_100E.tif\n",
      "Successfully loaded and saved: https://storage.googleapis.com/earthenginepartners-hansen/GFC-2023-v1.11/Hansen_GFC-2023-v1.11_lossyear_00N_090E.tif\n",
      "Successfully loaded and saved: https://storage.googleapis.com/earthenginepartners-hansen/GFC-2023-v1.11/Hansen_GFC-2023-v1.11_lossyear_00N_100E.tif\n",
      "Successfully loaded and saved: https://storage.googleapis.com/earthenginepartners-hansen/GFC-2023-v1.11/Hansen_GFC-2023-v1.11_lossyear_10N_110E.tif\n",
      "Successfully loaded and saved: https://storage.googleapis.com/earthenginepartners-hansen/GFC-2023-v1.11/Hansen_GFC-2023-v1.11_lossyear_00N_110E.tif\n"
     ]
    }
   ],
   "source": [
    "import os\n",
    "import itertools \n",
    "import requests\n",
    "import rasterio\n",
    "from rasterio.plot import show\n",
    "from io import BytesIO\n",
    "\n",
    "# Define output directory\n",
    "output_dir = \"./data\"\n",
    "os.makedirs(output_dir, exist_ok=True)\n",
    "\n",
    "# Define variables and coordinates\n",
    "variables = [\"treecover2000\", \"lossyear\"]\n",
    "coordinates = [\"10N_090E\", \"10N_100E\", \"00N_090E\", \"00N_100E\", \"10N_110E\", \"00N_110E\"]\n",
    "\n",
    "# Generate URLs for all variables and coordinates\n",
    "urls = [\n",
    "    f\"https://storage.googleapis.com/earthenginepartners-hansen/GFC-2023-v1.11/Hansen_GFC-2023-v1.11_{var}_{coord}.tif\"\n",
    "    for var, coord in itertools.product(variables, coordinates)\n",
    "]\n",
    "\n",
    "# Load raster data and save locally\n",
    "forest_tiles = []\n",
    "for url in urls:\n",
    "    try:\n",
    "        response = requests.get(url)\n",
    "        response.raise_for_status()  # Ensure the request was successful\n",
    "        filename = os.path.join(output_dir, os.path.basename(url))  # Create local filename\n",
    "        with open(filename, 'wb') as f:\n",
    "            f.write(response.content)  # Save the file\n",
    "        # Load the raster data into rasterio\n",
    "        with rasterio.open(filename) as src:\n",
    "            print(f\"Successfully loaded and saved: {url}\")\n",
    "            forest_tiles.append(src.read(1))  # Reading the first band\n",
    "    except requests.exceptions.RequestException as e:\n",
    "        print(f\"Failed to download {url}: {e}\")\n"
   ]
  },
  {
   "cell_type": "markdown",
   "metadata": {},
   "source": [
    "# Resampling"
   ]
  },
  {
   "cell_type": "code",
   "execution_count": 12,
   "metadata": {},
   "outputs": [],
   "source": [
    "output_workspace = r\"C:\\Users\\godfr\\Documents\\ArcGIS\\Projects\\Deforestation\\Deforestation.gdb\""
   ]
  },
  {
   "cell_type": "code",
   "execution_count": 19,
   "metadata": {},
   "outputs": [
    {
     "name": "stdout",
     "output_type": "stream",
     "text": [
      "Resampling Hansen_GFC-2023-v1.11_lossyear_00N_090E.tif to lossyear_00N_090E_Resample...\n",
      "Resampling Hansen_GFC-2023-v1.11_lossyear_00N_100E.tif to lossyear_00N_100E_Resample...\n",
      "Resampling Hansen_GFC-2023-v1.11_lossyear_00N_110E.tif to lossyear_00N_110E_Resample...\n",
      "Resampling Hansen_GFC-2023-v1.11_lossyear_10N_090E.tif to lossyear_10N_090E_Resample...\n",
      "Resampling Hansen_GFC-2023-v1.11_lossyear_10N_100E.tif to lossyear_10N_100E_Resample...\n",
      "Resampling Hansen_GFC-2023-v1.11_lossyear_10N_110E.tif to lossyear_10N_110E_Resample...\n",
      "Resampling Hansen_GFC-2023-v1.11_treecover2000_00N_090E.tif to treecover2000_00N_090E_Resample...\n",
      "Resampling Hansen_GFC-2023-v1.11_treecover2000_00N_100E.tif to treecover2000_00N_100E_Resample...\n",
      "Resampling Hansen_GFC-2023-v1.11_treecover2000_00N_110E.tif to treecover2000_00N_110E_Resample...\n",
      "Resampling Hansen_GFC-2023-v1.11_treecover2000_10N_090E.tif to treecover2000_10N_090E_Resample...\n",
      "Resampling Hansen_GFC-2023-v1.11_treecover2000_10N_100E.tif to treecover2000_10N_100E_Resample...\n",
      "Resampling Hansen_GFC-2023-v1.11_treecover2000_10N_110E.tif to treecover2000_10N_110E_Resample...\n",
      "Resampling completed!\n"
     ]
    }
   ],
   "source": [
    "import arcpy\n",
    "import os\n",
    "\n",
    "# Set workspace directory where your raster files are located\n",
    "workspace = r\"C:\\Users\\godfr\\Documents\\ArcGIS\\Projects\\Deforestation\\data\"\n",
    "arcpy.env.workspace = workspace\n",
    "\n",
    "# Output geodatabase or folder for resampled rasters\n",
    "output_workspace = r\"C:\\Users\\godfr\\Documents\\ArcGIS\\Projects\\Deforestation\\Deforestation.gdb\"\n",
    "\n",
    "# Define cell size and resampling type\n",
    "cell_size = \"0.005 0.005\"\n",
    "resampling_type = \"NEAREST\"\n",
    "\n",
    "# Loop through each .tif file in the workspace\n",
    "for raster in arcpy.ListRasters(\"*.tif\"):\n",
    "    # Define input raster and sanitized output raster name\n",
    "    in_raster = os.path.join(workspace, raster)\n",
    "    sanitized_name = raster[22:-4] + \"_Resample\"  # Extract from character 23 to the end and add \"_Resample\"\n",
    "    out_raster = os.path.join(output_workspace, sanitized_name)\n",
    "    \n",
    "    # Perform resampling\n",
    "    print(f\"Resampling {raster} to {sanitized_name}...\")\n",
    "    try:\n",
    "        arcpy.management.Resample(in_raster, out_raster, cell_size, resampling_type)\n",
    "    except arcpy.ExecuteError as e:\n",
    "        print(f\"Error resampling {raster}: {e}\")\n",
    "\n",
    "print(\"Resampling completed!\")"
   ]
  },
  {
   "cell_type": "markdown",
   "metadata": {},
   "source": [
    "# Mosaicing"
   ]
  },
  {
   "cell_type": "code",
   "execution_count": 7,
   "metadata": {},
   "outputs": [
    {
     "name": "stdout",
     "output_type": "stream",
     "text": [
      "Mosaicing completed successfully!\n"
     ]
    }
   ],
   "source": [
    "import arcpy\n",
    "\n",
    "# Set environment\n",
    "arcpy.env.workspace = r\"C:\\Users\\godfr\\Documents\\ArcGIS\\Projects\\Deforestation\"\n",
    "output_location = r\"C:\\Users\\godfr\\Documents\\ArcGIS\\Projects\\Deforestation\\Deforestation.gdb\"\n",
    "\n",
    "# Define raster lists\n",
    "treecover2000_rasters = [\n",
    "    \"treecover2000_10N_090E_Resample\",\n",
    "    \"treecover2000_10N_100E_Resample\",\n",
    "    \"treecover2000_10N_110E_Resample\",\n",
    "    \"treecover2000_00N_090E_Resample\",\n",
    "    \"treecover2000_00N_100E_Resample\",\n",
    "    \"treecover2000_00N_110E_Resample\"\n",
    "]\n",
    "\n",
    "lossyear_rasters = [\n",
    "    \"lossyear_10N_090E_Resample\",\n",
    "    \"lossyear_10N_100E_Resample\",\n",
    "    \"lossyear_10N_110E_Resample\",\n",
    "    \"lossyear_00N_090E_Resample\",\n",
    "    \"lossyear_00N_100E_Resample\",\n",
    "    \"lossyear_00N_110E_Resample\"\n",
    "]\n",
    "\n",
    "# Ensure no existing outputs\n",
    "output_raster_treecover = r\"C:\\Users\\godfr\\Documents\\ArcGIS\\Projects\\Deforestation\\Deforestation.gdb\\treecover2000_merged\"\n",
    "output_raster_lossyear = r\"C:\\Users\\godfr\\Documents\\ArcGIS\\Projects\\Deforestation\\Deforestation.gdb\\lossyear_merged\"\n",
    "\n",
    "if arcpy.Exists(output_raster_treecover):\n",
    "    arcpy.management.Delete(output_raster_treecover)\n",
    "if arcpy.Exists(output_raster_lossyear):\n",
    "    arcpy.management.Delete(output_raster_lossyear)\n",
    "\n",
    "# Check and define spatial reference\n",
    "spatial_ref = arcpy.SpatialReference(4326)\n",
    "for raster in treecover2000_rasters + lossyear_rasters:\n",
    "    desc = arcpy.Describe(raster)\n",
    "    if not hasattr(desc, \"spatialReference\") or desc.spatialReference is None:\n",
    "        print(f\"Defining spatial reference for raster: {raster}\")\n",
    "        arcpy.management.DefineProjection(raster, spatial_ref)\n",
    "\n",
    "# Mosaic treecover2000\n",
    "arcpy.management.MosaicToNewRaster(\n",
    "    input_rasters=\";\".join(treecover2000_rasters),\n",
    "    output_location=output_location,\n",
    "    raster_dataset_name_with_extension=\"treecover2000_merged\",\n",
    "    coordinate_system_for_the_raster=spatial_ref,\n",
    "    pixel_type=\"8_BIT_UNSIGNED\",\n",
    "    cellsize=None,\n",
    "    number_of_bands=1,\n",
    "    mosaic_method=\"LAST\",\n",
    "    mosaic_colormap_mode=\"FIRST\"\n",
    ")\n",
    "\n",
    "# Mosaic lossyear\n",
    "arcpy.management.MosaicToNewRaster(\n",
    "    input_rasters=\";\".join(lossyear_rasters),\n",
    "    output_location=output_location,\n",
    "    raster_dataset_name_with_extension=\"lossyear_merged\",\n",
    "    coordinate_system_for_the_raster=spatial_ref,\n",
    "    pixel_type=\"8_BIT_UNSIGNED\",\n",
    "    cellsize=None,\n",
    "    number_of_bands=1,\n",
    "    mosaic_method=\"LAST\",\n",
    "    mosaic_colormap_mode=\"FIRST\"\n",
    ")\n",
    "\n",
    "print(\"Mosaicing completed successfully!\")"
   ]
  },
  {
   "cell_type": "markdown",
   "metadata": {},
   "source": [
    "# Merge Sumatra with Borneo"
   ]
  },
  {
   "cell_type": "code",
   "execution_count": 8,
   "metadata": {},
   "outputs": [
    {
     "name": "stdout",
     "output_type": "stream",
     "text": [
      "Merging Sumatra and Borneo completed successfully! Output saved to: Deforestation.gdb\\Sumatra_Borneo\n"
     ]
    }
   ],
   "source": [
    "# Input datasets (relative to the workspace)\n",
    "input_datasets = [\"Sumatra\", \"borneo\"]\n",
    "\n",
    "# Output feature class (within the geodatabase)\n",
    "output_path = r\"Deforestation.gdb\\Sumatra_Borneo\"\n",
    "\n",
    "# Define field mappings\n",
    "field_mappings = arcpy.FieldMappings()\n",
    "\n",
    "# Automatically create field mappings for all inputs\n",
    "for dataset in input_datasets:\n",
    "    field_mappings.addTable(dataset)\n",
    "\n",
    "# Perform the merge\n",
    "arcpy.management.Merge(\n",
    "    inputs=input_datasets,\n",
    "    output=output_path,\n",
    "    field_mappings=field_mappings,\n",
    "    add_source=\"NO_SOURCE_INFO\"\n",
    ")\n",
    "\n",
    "print(f\"Merging Sumatra and Borneo completed successfully! Output saved to: {output_path}\")"
   ]
  },
  {
   "cell_type": "markdown",
   "metadata": {},
   "source": [
    "# Clip Rasters"
   ]
  },
  {
   "cell_type": "code",
   "execution_count": 13,
   "metadata": {},
   "outputs": [
    {
     "name": "stdout",
     "output_type": "stream",
     "text": [
      "Mask extraction completed for lossyear_merged and treecover2000_merged!\n"
     ]
    }
   ],
   "source": [
    "from arcpy.sa import ExtractByMask\n",
    "\n",
    "with arcpy.EnvManager(scratchWorkspace=r\"C:\\Users\\godfr\\Documents\\ArcGIS\\Projects\\Deforestation\\Deforestation.gdb\"):\n",
    "    # Define inputs and outputs\n",
    "    rasters = {\n",
    "        \"lossyear_merged\": \"lossyear_masked\",\n",
    "        \"treecover2000_merged\": \"treecover2000_masked\"\n",
    "    }\n",
    "    mask_data = \"Sumatra_Borneo\"\n",
    "    analysis_extent = '95.1935543765559 -5.94328835184967 119.269555210742 7.03754734990478 GEOGCS[\"GCS_WGS_1984\",DATUM[\"D_WGS_1984\",SPHEROID[\"WGS_1984\",6378137.0,298.257223563]],PRIMEM[\"Greenwich\",0.0],UNIT[\"Degree\",0.0174532925199433]]'\n",
    "\n",
    "    for in_raster, out_raster_name in rasters.items():\n",
    "        # Extract by mask\n",
    "        out_raster = ExtractByMask(\n",
    "            in_raster=in_raster,\n",
    "            in_mask_data=mask_data,\n",
    "            extraction_area=\"INSIDE\",\n",
    "            analysis_extent=analysis_extent\n",
    "        )\n",
    "        # Save the result\n",
    "        out_raster.save(f\"{output_workspace}/{out_raster_name}\")\n",
    "\n",
    "print(\"Mask extraction completed for lossyear_merged and treecover2000_merged!\")\n"
   ]
  },
  {
   "cell_type": "code",
   "execution_count": 11,
   "metadata": {},
   "outputs": [
    {
     "data": {
      "text/plain": [
       "'lossyear_masked'"
      ]
     },
     "execution_count": 11,
     "metadata": {},
     "output_type": "execute_result"
    }
   ],
   "source": []
  },
  {
   "cell_type": "code",
   "execution_count": 16,
   "metadata": {},
   "outputs": [
    {
     "ename": "TypeError",
     "evalue": "AddColormap() got an unexpected keyword argument 'input_colormap'",
     "output_type": "error",
     "traceback": [
      "\u001b[0;31m---------------------------------------------------------------------------\u001b[0m\n\u001b[0;31mTypeError\u001b[0m                                 Traceback (most recent call last)",
      "In  \u001b[0;34m[16]\u001b[0m:\nLine \u001b[0;34m21\u001b[0m:    arcpy.management.AddColormap(\u001b[37m\u001b[39;49;00m\n",
      "\u001b[0;31mTypeError\u001b[0m: AddColormap() got an unexpected keyword argument 'input_colormap'\n\u001b[0;31m---------------------------------------------------------------------------\u001b[0m"
     ]
    }
   ],
   "source": [
    "import arcpy\n",
    "from arcpy.sa import Con\n",
    "\n",
    "# Extract only forest loss pixels (1-20) and set the rest as NoData\n",
    "loss_pixels = Con(\n",
    "    in_conditional_raster=\"lossyear_masked\",\n",
    "    in_true_raster_or_constant=1,  # Value for forest loss\n",
    "    in_false_raster_or_constant=None,  # NoData for other values\n",
    "    where_clause=\"Value >= 1 AND Value <= 20\"\n",
    ")\n",
    "\n",
    "# Save the new raster layer with only forest loss pixels\n",
    "loss_pixels.save(fr\"{output_workspace}/lossyear_loss_only\")\n",
    "\n",
    "# Apply symbology: Red for forest loss\n",
    "color_map = [\n",
    "    [1, 255, 0, 0]  # Value 1 -> Red\n",
    "]\n",
    "\n",
    "# Add a color map to the raster\n",
    "arcpy.management.AddColormap(\n",
    "    in_raster=f\"{output_workspace}/lossyear_loss_only\",\n",
    "    input_colormap=color_map\n",
    ")\n",
    "\n",
    "print(\"Forest loss layer created and symbolized with red.\")\n"
   ]
  },
  {
   "cell_type": "code",
   "execution_count": 17,
   "metadata": {},
   "outputs": [
    {
     "ename": "TypeError",
     "evalue": "AddColormap() got an unexpected keyword argument 'input_colormap'",
     "output_type": "error",
     "traceback": [
      "\u001b[0;31m---------------------------------------------------------------------------\u001b[0m\n\u001b[0;31mTypeError\u001b[0m                                 Traceback (most recent call last)",
      "In  \u001b[0;34m[17]\u001b[0m:\nLine \u001b[0;34m9\u001b[0m:     arcpy.management.AddColormap(\u001b[37m\u001b[39;49;00m\n",
      "\u001b[0;31mTypeError\u001b[0m: AddColormap() got an unexpected keyword argument 'input_colormap'\n\u001b[0;31m---------------------------------------------------------------------------\u001b[0m"
     ]
    }
   ],
   "source": [
    "import arcpy\n",
    "\n",
    "# Define a new color map: 1 (loss) -> Red, NoData -> Transparent\n",
    "color_map = [\n",
    "    [1, 255, 0, 0],  # Value 1 (forest loss) -> Red\n",
    "]\n",
    "\n",
    "# Apply the color map\n",
    "arcpy.management.AddColormap(\n",
    "    in_raster=\"Deforestation.gdb/lossyear_symbology\",\n",
    "    input_colormap=color_map\n",
    ")\n",
    "\n",
    "print(\"Color map applied: Red for forest loss, transparent for no loss!\")\n"
   ]
  },
  {
   "cell_type": "code",
   "execution_count": null,
   "metadata": {},
   "outputs": [],
   "source": []
  }
 ],
 "metadata": {
  "kernelspec": {
   "display_name": "ArcGISPro",
   "language": "Python",
   "name": "python3"
  },
  "language_info": {
   "file_extension": ".py",
   "name": "python",
   "version": "3"
  }
 },
 "nbformat": 4,
 "nbformat_minor": 2
}
